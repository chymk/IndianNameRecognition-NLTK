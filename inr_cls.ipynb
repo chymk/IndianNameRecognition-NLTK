
{
  "nbformat": 4,
  "nbformat_minor": 0,
  "metadata": {
    "colab": {
      "name": "inr_cls.ipynb",
      "provenance": []
    },
    "kernelspec": {
      "name": "python3",
      "display_name": "Python 3"
    }
  },
  "cells": [
    {
      "cell_type": "code",
      "metadata": {
        "id": "QmQ_dFZ5lBN1"
      },
      "source": [
        "import pandas as pd\n",
        "import matplotlib.pyplot as plt\n",
        "import seaborn as sns\n",
        "import random"
      ],
      "execution_count": null,
      "outputs": []
    },
    {
      "cell_type": "code",
      "metadata": {
        "id": "xb6i0Nu-lSAQ"
      },
      "source": [
        "names=pd.read_csv(\"data.csv\")"
      ],
      "execution_count": null,
      "outputs": []
    },
    {
      "cell_type": "code",
      "metadata": {
        "id": "yKx9jMPnlldD",
        "outputId": "92b0d0dc-660f-47df-8b50-8320b152e252",
        "colab": {
          "base_uri": "https://localhost:8080/",
          "height": 204
        }
      },
      "source": [
        "names.head()"
      ],
      "execution_count": null,
      "outputs": [
        {
          "output_type": "execute_result",
          "data": {
            "text/html": [
              "<div>\n",
              "<style scoped>\n",
              "    .dataframe tbody tr th:only-of-type {\n",
              "        vertical-align: middle;\n",
              "    }\n",
              "\n",
              "    .dataframe tbody tr th {\n",
              "        vertical-align: top;\n",
              "    }\n",
              "\n",
              "    .dataframe thead th {\n",
              "        text-align: right;\n",
              "    }\n",
              "</style>\n",
              "<table border=\"1\" class=\"dataframe\">\n",
              "  <thead>\n",
              "    <tr style=\"text-align: right;\">\n",
              "      <th></th>\n",
              "      <th>Name</th>\n",
              "      <th>Gender</th>\n",
              "      <th>Meaning</th>\n",
              "    </tr>\n",
              "  </thead>\n",
              "  <tbody>\n",
              "    <tr>\n",
              "      <th>0</th>\n",
              "      <td>A'rab</td>\n",
              "      <td>Boy</td>\n",
              "      <td>Bedoin</td>\n",
              "    </tr>\n",
              "    <tr>\n",
              "      <th>1</th>\n",
              "      <td>Aaban</td>\n",
              "      <td>Boy</td>\n",
              "      <td>More clear; 8th Persian month</td>\n",
              "    </tr>\n",
              "    <tr>\n",
              "      <th>2</th>\n",
              "      <td>Aabdar</td>\n",
              "      <td>Boy</td>\n",
              "      <td>Bright; Like glass</td>\n",
              "    </tr>\n",
              "    <tr>\n",
              "      <th>3</th>\n",
              "      <td>Aabhas</td>\n",
              "      <td>Boy</td>\n",
              "      <td>Feeling; Virtual</td>\n",
              "    </tr>\n",
              "    <tr>\n",
              "      <th>4</th>\n",
              "      <td>Aabhat</td>\n",
              "      <td>Boy</td>\n",
              "      <td>Shining; Visible; brilliant</td>\n",
              "    </tr>\n",
              "  </tbody>\n",
              "</table>\n",
              "</div>"
            ],
            "text/plain": [
              "     Name Gender                         Meaning\n",
              "0   A'rab    Boy                         Bedoin \n",
              "1   Aaban    Boy  More clear; 8th Persian month \n",
              "2  Aabdar    Boy             Bright; Like glass \n",
              "3  Aabhas    Boy               Feeling; Virtual \n",
              "4  Aabhat    Boy    Shining; Visible; brilliant "
            ]
          },
          "metadata": {
            "tags": []
          },
          "execution_count": 161
        }
      ]
    },
    {
      "cell_type": "markdown",
      "metadata": {
        "id": "1hliwGYXniby"
      },
      "source": [
        "Drop Meaning column from data set"
      ]
    },
    {
      "cell_type": "code",
      "metadata": {
        "id": "N8JSwhCBnFHe"
      },
      "source": [
        "names=names.drop([\"Meaning\"],axis=1)"
      ],
      "execution_count": null,
      "outputs": []
    },
    {
      "cell_type": "code",
      "metadata": {
        "id": "O7nyofB9nxto",
        "outputId": "18d3fe78-1b4c-46c4-d6aa-108f7e79f49b",
        "colab": {
          "base_uri": "https://localhost:8080/",
          "height": 34
        }
      },
      "source": [
        "male=list(names[names.Gender==\"Boy\"].Name)\n",
        "len(male)"
      ],
      "execution_count": null,
      "outputs": [
        {
          "output_type": "execute_result",
          "data": {
            "text/plain": [
              "15801"
            ]
          },
          "metadata": {
            "tags": []
          },
          "execution_count": 163
        }
      ]
    },
    {
      "cell_type": "code",
      "metadata": {
        "id": "Ny0HwkVYBp2g",
        "outputId": "426725de-6e52-4e86-c2c1-31aa2519897d",
        "colab": {
          "base_uri": "https://localhost:8080/",
          "height": 34
        }
      },
      "source": [
        "female=list(names[names.Gender==(\"Girl\" or \"Unisex\")].Name)\n",
        "len(female)"
      ],
      "execution_count": null,
      "outputs": [
        {
          "output_type": "execute_result",
          "data": {
            "text/plain": [
              "8574"
            ]
          },
          "metadata": {
            "tags": []
          },
          "execution_count": 143
        }
      ]
    },
    {
      "cell_type": "code",
      "metadata": {
        "id": "MgL4QS3tCNmN"
      },
      "source": [
        "all_names=([(name,'male')for name in male]+\n",
        "              [(name,'female')for name in female])\n",
        "import random\n",
        "random.shuffle(all_names)"
      ],
      "execution_count": null,
      "outputs": []
    },
    {
      "cell_type": "code",
      "metadata": {
        "id": "Zm8nxfK_IUH-"
      },
      "source": [
        "def gender_features(name):\n",
        "    features = {}\n",
        "    features[\"first_letter\"] = name[0].lower()\n",
        "    features[\"last_letter\"] = name[-1].lower()\n",
        "    for letter in 'abcdefghijklmnopqrstuvwxyz':\n",
        "        features[\"count({})\".format(letter)] = name.lower().count(letter)\n",
        "        features[\"has({})\".format(letter)] = (letter in name.lower())\n",
        "    return features"
      ],
      "execution_count": null,
      "outputs": []
    },
    {
      "cell_type": "code",
      "metadata": {
        "id": "GsMqWJriJJpw",
        "outputId": "bbb32495-d2eb-4483-e67c-2ce7c11950b9",
        "colab": {
          "base_uri": "https://localhost:8080/",
          "height": 34
        }
      },
      "source": [
        "import nltk\n",
        "featuresets=[(gender_features(n),gender)for (n,gender) in labeled_names]\n",
        "train_set,test_set=featuresets[6000:],featuresets[:6000]\n",
        "classifier=nltk.NaiveBayesClassifier.train(train_set)\n",
        "print(nltk.classify.accuracy(classifier,test_set))"
      ],
      "execution_count": null,
      "outputs": [
        {
          "output_type": "stream",
          "text": [
            "0.8358333333333333\n"
          ],
          "name": "stdout"
        }
      ]
    },
    {
      "cell_type": "code",
      "metadata": {
        "id": "ZDJwTvNkKE4U",
        "outputId": "496b0646-40c7-4429-e7c6-6ed328f2918b",
        "colab": {
          "base_uri": "https://localhost:8080/",
          "height": 34
        }
      },
      "source": [
        "classifier.classify(gender_features('Lakshmi'))"
      ],
      "execution_count": null,
      "outputs": [
        {
          "output_type": "execute_result",
          "data": {
            "text/plain": [
              "'female'"
            ]
          },
          "metadata": {
            "tags": []
          },
          "execution_count": 158
        }
      ]
    }
  ]
}
