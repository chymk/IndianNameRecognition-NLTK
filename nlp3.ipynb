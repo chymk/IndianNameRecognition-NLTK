{
  "nbformat": 4,
  "nbformat_minor": 0,
  "metadata": {
    "colab": {
      "name": "nlp3.ipynb",
      "provenance": [],
      "collapsed_sections": []
    },
    "kernelspec": {
      "name": "python3",
      "display_name": "Python 3"
    }
  },
  "cells": [
    {
      "cell_type": "markdown",
      "metadata": {
        "id": "eH64s8Nx7fFj"
      },
      "source": [
        "**Stopwords**"
      ]
    },
    {
      "cell_type": "code",
      "metadata": {
        "id": "hIhkeMv77K1U",
        "outputId": "c1388931-599a-4af9-8d96-2d0aefd5e2f8",
        "colab": {
          "base_uri": "https://localhost:8080/",
          "height": 54
        }
      },
      "source": [
        "from nltk.corpus import stopwords\n",
        "print(stopwords.words('english'))"
      ],
      "execution_count": null,
      "outputs": [
        {
          "output_type": "stream",
          "text": [
            "['i', 'me', 'my', 'myself', 'we', 'our', 'ours', 'ourselves', 'you', \"you're\", \"you've\", \"you'll\", \"you'd\", 'your', 'yours', 'yourself', 'yourselves', 'he', 'him', 'his', 'himself', 'she', \"she's\", 'her', 'hers', 'herself', 'it', \"it's\", 'its', 'itself', 'they', 'them', 'their', 'theirs', 'themselves', 'what', 'which', 'who', 'whom', 'this', 'that', \"that'll\", 'these', 'those', 'am', 'is', 'are', 'was', 'were', 'be', 'been', 'being', 'have', 'has', 'had', 'having', 'do', 'does', 'did', 'doing', 'a', 'an', 'the', 'and', 'but', 'if', 'or', 'because', 'as', 'until', 'while', 'of', 'at', 'by', 'for', 'with', 'about', 'against', 'between', 'into', 'through', 'during', 'before', 'after', 'above', 'below', 'to', 'from', 'up', 'down', 'in', 'out', 'on', 'off', 'over', 'under', 'again', 'further', 'then', 'once', 'here', 'there', 'when', 'where', 'why', 'how', 'all', 'any', 'both', 'each', 'few', 'more', 'most', 'other', 'some', 'such', 'no', 'nor', 'not', 'only', 'own', 'same', 'so', 'than', 'too', 'very', 's', 't', 'can', 'will', 'just', 'don', \"don't\", 'should', \"should've\", 'now', 'd', 'll', 'm', 'o', 're', 've', 'y', 'ain', 'aren', \"aren't\", 'couldn', \"couldn't\", 'didn', \"didn't\", 'doesn', \"doesn't\", 'hadn', \"hadn't\", 'hasn', \"hasn't\", 'haven', \"haven't\", 'isn', \"isn't\", 'ma', 'mightn', \"mightn't\", 'mustn', \"mustn't\", 'needn', \"needn't\", 'shan', \"shan't\", 'shouldn', \"shouldn't\", 'wasn', \"wasn't\", 'weren', \"weren't\", 'won', \"won't\", 'wouldn', \"wouldn't\"]\n"
          ],
          "name": "stdout"
        }
      ]
    },
    {
      "cell_type": "markdown",
      "metadata": {
        "id": "jWDhTZwoEitE"
      },
      "source": [
        "**Pronounciation Dictionary**"
      ]
    },
    {
      "cell_type": "code",
      "metadata": {
        "id": "jdnVEr3R8Cts",
        "outputId": "5aca7c4f-b406-43c9-ac98-404c1b011b98",
        "colab": {
          "base_uri": "https://localhost:8080/",
          "height": 34
        }
      },
      "source": [
        "import nltk\n",
        "entries=nltk.corpus.cmudict.entries()\n",
        "len(entries)"
      ],
      "execution_count": null,
      "outputs": [
        {
          "output_type": "stream",
          "text": [
            "[('a', ['AH0']), ('a.', ['EY1']), ('a', ['EY1']), ...]\n"
          ],
          "name": "stdout"
        }
      ]
    },
    {
      "cell_type": "code",
      "metadata": {
        "id": "YFNNStzO8MZF",
        "outputId": "6a0b559b-525e-4cbf-c0b6-2119e231e26e",
        "colab": {
          "base_uri": "https://localhost:8080/",
          "height": 357
        }
      },
      "source": [
        "for entry in entries[90000:90020]:\n",
        "  print(entry)"
      ],
      "execution_count": null,
      "outputs": [
        {
          "output_type": "stream",
          "text": [
            "(\"penja's\", ['P', 'EH1', 'N', 'JH', 'AH0', 'Z'])\n",
            "('penkala', ['P', 'IH0', 'NG', 'K', 'AA1', 'L', 'AH0'])\n",
            "('penkava', ['P', 'EH0', 'NG', 'K', 'AA1', 'V', 'AH0'])\n",
            "('penland', ['P', 'EH1', 'N', 'L', 'AH0', 'N', 'D'])\n",
            "('penley', ['P', 'EH1', 'N', 'L', 'IY0'])\n",
            "('penman', ['P', 'EH1', 'N', 'M', 'AH0', 'N'])\n",
            "('penn', ['P', 'EH1', 'N'])\n",
            "('penna', ['P', 'EH1', 'N', 'AH0'])\n",
            "('penna', ['P', 'EH2', 'N', 'S', 'IH0', 'L', 'V', 'EY1', 'N', 'Y', 'AH0'])\n",
            "('pennacchio', ['P', 'EH0', 'N', 'AA1', 'K', 'IY0', 'OW0'])\n",
            "('pennant', ['P', 'EH1', 'N', 'AH0', 'N', 'T'])\n",
            "('pennants', ['P', 'EH1', 'N', 'AH0', 'N', 'T', 'S'])\n",
            "('pennbancorp', ['P', 'EH1', 'N', 'B', 'AE1', 'N', 'K', 'AO2', 'R', 'P'])\n",
            "('penncorp', ['P', 'EH1', 'N', 'K', 'AO2', 'R', 'P'])\n",
            "('pennebaker', ['P', 'EH1', 'N', 'IH0', 'B', 'AH0', 'K', 'ER0'])\n",
            "('pennebaker', ['P', 'EH1', 'N', 'IH0', 'B', 'EY2', 'K', 'ER0'])\n",
            "('penned', ['P', 'EH1', 'N', 'D'])\n",
            "('pennel', ['P', 'EH1', 'N', 'AH0', 'L'])\n",
            "('pennell', ['P', 'EH1', 'N', 'AH0', 'L'])\n",
            "('pennella', ['P', 'EH2', 'N', 'EH1', 'L', 'AH0'])\n"
          ],
          "name": "stdout"
        }
      ]
    },
    {
      "cell_type": "markdown",
      "metadata": {
        "id": "NtQKYddVEa8V"
      },
      "source": [
        "**Synonyms**"
      ]
    },
    {
      "cell_type": "code",
      "metadata": {
        "id": "Rrc15NDa9ap2",
        "outputId": "cb86eba3-7177-407a-af93-cca2f609dd6e",
        "colab": {
          "base_uri": "https://localhost:8080/",
          "height": 102
        }
      },
      "source": [
        "from nltk.corpus import wordnet as wn\n",
        "wn.synsets('car')"
      ],
      "execution_count": null,
      "outputs": [
        {
          "output_type": "execute_result",
          "data": {
            "text/plain": [
              "[Synset('car.n.01'),\n",
              " Synset('car.n.02'),\n",
              " Synset('car.n.03'),\n",
              " Synset('car.n.04'),\n",
              " Synset('cable_car.n.01')]"
            ]
          },
          "metadata": {
            "tags": []
          },
          "execution_count": 34
        }
      ]
    },
    {
      "cell_type": "code",
      "metadata": {
        "id": "xC7ibjbICDvC",
        "outputId": "ea9a0395-cec2-4b55-c298-822d99401490",
        "colab": {
          "base_uri": "https://localhost:8080/",
          "height": 34
        }
      },
      "source": [
        "wn.synset('car.n.03').lemma_names()"
      ],
      "execution_count": null,
      "outputs": [
        {
          "output_type": "execute_result",
          "data": {
            "text/plain": [
              "['car', 'gondola']"
            ]
          },
          "metadata": {
            "tags": []
          },
          "execution_count": 39
        }
      ]
    },
    {
      "cell_type": "markdown",
      "metadata": {
        "id": "LuLGSkf4EzMj"
      },
      "source": [
        "**Processing raw text with NLTK**\n",
        "\n",
        "*   NLP pipeline\n",
        "*   Implementing Tokenization\n",
        "*   Regular expression\n",
        "*   RE used in tokenization\n",
        "\n",
        "**Simple Information Extraction Workflow**\n",
        "\n",
        "Raw text -> Sentence Segmentation -> Tokenization -> Parts of speech tagging -> Entity Recognition -> Relation Recognition -> Relationship(list of tuples)"
      ]
    },
    {
      "cell_type": "markdown",
      "metadata": {
        "id": "casSxma1eAwo"
      },
      "source": [
        "**NLP Pipeline**"
      ]
    },
    {
      "cell_type": "code",
      "metadata": {
        "id": "Fj0ts1H-DPck"
      },
      "source": [
        "import nltk\n",
        "texts = [\"\"\"\n",
        "Wiki Loves Monuments: Photograph a monument, help Wikipedia and win!\n",
        "Learn more\n",
        "Water conservation\n",
        "From Wikipedia, the free encyclopedia\n",
        "Jump to navigationJump to search\n",
        "\n",
        "United States 1960 postal stamp advocating water conservation.\n",
        "Water conservation includes all the policies, strategies and activities to sustainably manage the natural resource of fresh water, to protect the hydrosphere, and to meet the current and future human demand. Population, household size, and growth and affluence all affect how much water is used. Factors such as climate change have increased pressures on natural water resources especially in manufacturing and agricultural irrigation.[1] Many countries have already implemented policies aimed at water conservation, with much success.[2]\n",
        "\n",
        "The goals of water conservation efforts include:\n",
        "\n",
        "Ensuring availability of water for future generations where the withdrawal of freshwater from an ecosystem does not exceed its natural replacement rate.\n",
        "Energy conservation as water pumping, delivery and wastewater treatment facilities consume a significant amount of energy. In some regions of the world over 15% of total electricity consumption is devoted to water management.\n",
        "Habitat conservation where minimizing human water use helps to preserve freshwater habitats for local wildlife and migrating waterfowl, but also water quality.[3]\n",
        "\n",
        "Contents\n",
        "1\tStrategies\n",
        "2\tSocial solutions\n",
        "3\tHousehold applications\n",
        "4\tCommercial applications\n",
        "5\tAgricultural applications\n",
        "6\tWater Reuse\n",
        "7\tWasting of water\n",
        "8\tSee also\n",
        "9\tReferences\n",
        "10\tExternal links\n",
        "Strategies\n",
        "The key activities to conserve water are as follows:\n",
        "\n",
        "Any beneficial reduction in water loss, use and waste of resources.[4]\n",
        "Avoiding any damage to water quality.\n",
        "Improving water management practices that reduce the use or enhance the beneficial use of water.[5][6]\n",
        "One strategy in water conservation is rain water harvesting.[7] Digging ponds, lakes, canals, expanding the water reservoir, and installing rain water catching ducts and filtration systems on homes are different methods of harvesting rain water. Many people in many countries keep clean containers so they can boil it and drink it, which is useful to supply water to the needy.[7] Harvested and filtered rain water can be used for toilets, home gardening, lawn irrigation, and small scale agriculture.[7]\n",
        "\n",
        "Another strategy in water conservation is protecting groundwater resources. When precipitation occurs, some infiltrates the soil and goes underground.[8] Water in this saturation zone is called groundwater.[8] Contamination of groundwater causes the groundwater water supply to not be able to be used as a resource of fresh drinking water and the natural regeneration of contaminated groundwater can take years to replenish.[9] Some examples of potential sources of groundwater contamination include storage tanks, septic systems, uncontrolled hazardous waste, landfills, atmospheric contaminants, chemicals, and road salts.[9] Contamination of groundwater decreases the replenishment of available freshwater so taking preventative measures by protecting groundwater resources from contamination is an important aspect of water conservation.[7]\n",
        "\n",
        "An additional strategy to water conservation is practicing sustainable methods of utilizing groundwater resources.[7] Groundwater flows due to gravity and eventually discharges into streams.[8] Excess pumping of groundwater leads to a decrease in groundwater levels and if continued it can exhaust the resource.[7] Ground and surface waters are connected and overuse of groundwater can reduce and, in extreme examples, diminish the water supply of lakes, rivers, and streams.[9] In coastal regions, over pumping groundwater can increase saltwater intrusion which results in the contamination of groundwater water supply.[9] Sustainable use of groundwater is essential in water conservation.\n",
        "\n",
        "A fundamental component to water conservation strategy is communication and education outreach of different water programs.[10] Developing communication that educates science to land managers, policy makers, farmers, and the general public is another important strategy utilized in water conservation.[10] Communication of the science of how water systems work is an important aspect when creating a management plan to conserve that system and is often used for ensuring the right management plan to be put into action.[10]\n",
        "\n",
        "Social solutions\n",
        "\n",
        "Drip irrigation system in New Mexico\n",
        "Water conservation programs involved in social solutions are typically initiated at the local level, by either municipal water utilities or regional governments. Common strategies include public outreach campaigns,[11] tiered water rates (charging progressively higher prices as water use increases), or restrictions on outdoor water use such as lawn watering and car washing.[12] Cities in dry climates often require or encourage the installation of xeriscaping or natural landscaping in new homes to reduce outdoor water usage.[13] Most urban outdoor water use in California is residential,[14] illustrating a reason for outreach to households as well as businesses.\n",
        "\n",
        "One fundamental conservation goal is universal metering. The prevalence of residential water metering varies significantly worldwide. Recent studies have estimated that water supplies are metered in less than 30% of UK households,[15] and about 61% of urban Canadian homes (as of 2001).[16] Although individual water meters have often been considered impractical in homes with private wells or in multifamily buildings, the U.S. Environmental Protection Agency estimates that metering alone can reduce consumption by 20 to 40 percent.[17] In addition to raising consumer awareness of their water use, metering is also an important way to identify and localize water leakage. Water metering would benefit society, in the long run, it is proven that water metering increases the efficiency of the entire water system, as well as help unnecessary expenses for individuals for years to come. One would be unable to waste water unless they are willing to pay the extra charges, this way the water department would be able to monitor water usage by the public, domestic and manufacturing services.\n",
        "\n",
        "Some researchers have suggested that water conservation efforts should be primarily directed at farmers, in light of the fact that crop irrigation accounts for 70% of the world's fresh water use.[18] The agricultural sector of most countries is important both economically and politically, and water subsidies are common. Conservation advocates have urged removal of all subsidies to force farmers to grow more water-efficient crops and adopt less wasteful irrigation techniques.[citation needed]\n",
        "\n",
        "New technology poses a few new options for consumers, features such as full flush and half flush when using a toilet are trying to make a difference in water consumption and waste. It is also possible to use/\"pollute\" the water in stages (keeping use in flush toilets for last), hereby allowing more use of the water for various tasks within a same cycle (before it needs to be purified again, which can also be done in-situ). Earthships often use such a setup.\n",
        "\n",
        "Also available are modern shower heads that help reduce wasting water: Old shower heads are said to use 5-10 gallons per minute, while new fixtures available use 2.5 gallons per minute and offer equal water coverage.[19] Another method is to recycle the water of the shower directly, by means a semi-closed system which features a pump and filter. Such a setup (called a \"water recycling shower\") has also been employed at the VIRTUe LINQ house. Besides recycling water, it also reuses the heat of the water (which would otherwise be lost).[20][21]\n",
        "\n",
        "Household applications\n",
        "The Home Water Works website contains useful information on household water conservation.[22] Contrary to the popular view that the most effective way to save water is to curtail water-using behavior (e.g., by taking shorter showers),[23] experts suggest the most efficient way is replacing toilets and retrofitting washers; as demonstrated by two household end use logging studies in the U.S.[24][25]\n",
        "\n",
        "Water-saving technology for the home includes:\n",
        "\n",
        "Low-flow shower heads sometimes called energy-efficient shower heads as they also use less energy\n",
        "Low-flush toilets, composting toilets and incinerating toilets. Composting toilets have a dramatic impact in the developed world, as conventional Western flush toilets use large volumes of water\n",
        "Dual flush toilets created by Caroma includes two buttons or handles to flush different levels of water. Dual flush toilets use up to 67% less water than conventional toilets\n",
        "Faucet aerators, which break water flow into fine droplets to maintain \"wetting effectiveness\" while using less water. An additional benefit is that they reduce splashing while washing hands and dishes\n",
        "Raw water flushing where toilets use sea water or non-purified water (i.e. greywater)\n",
        "Wastewater reuse or recycling systems, allowing:\n",
        "Reuse of graywater for flushing toilets or watering gardens\n",
        "Recycling of wastewater through purification at a water treatment plant. See also Wastewater - Reuse\n",
        "Rainwater harvesting\n",
        "High-efficiency clothes washers\n",
        "Weather-based irrigation controllers\n",
        "Garden hose nozzles that shut off the water when it is not being used, instead of letting a hose run.\n",
        "Low flow taps in wash basins\n",
        "Swimming pool covers that reduce evaporation and can warm pool water to reduce water, energy and chemical costs.\n",
        "Automatic faucet is a water conservation faucet that eliminates water waste at the faucet. It automates the use of faucets without the use of hands.\n",
        "Commercial applications\n",
        "Many water-saving devices (such as low-flush toilets) that are useful in homes can also be useful for business water saving. Other water-saving technology for businesses includes:\n",
        "\n",
        "Waterless urinals\n",
        "Waterless car washes\n",
        "Infrared or foot-operated taps, which can save water by using short bursts of water for rinsing in a kitchen or bathroom\n",
        "Pressurized waterbrooms, which can be used instead of a hose to clean sidewalks\n",
        "X-ray film processor re-circulation systems\n",
        "Cooling tower conductivity controllers\n",
        "Water-saving steam sterilizers, for use in hospitals and health care facilities\n",
        "Rain water harvesting\n",
        "Water to Water heat exchangers.\n",
        "Agricultural applications\n",
        "\n",
        "Overhead irrigation, center pivot design\n",
        "For crop irrigation, optimal water efficiency means minimizing losses due to evaporation, runoff or subsurface drainage while maximizing production. An evaporation pan in combination with specific crop correction factors can be used to determine how much water is needed to satisfy plant requirements. Flood irrigation, the oldest and most common type, is often very uneven in distribution, as parts of a field may receive excess water in order to deliver sufficient quantities to other parts. Overhead irrigation, using center-pivot or lateral-moving sprinklers, has the potential for a much more equal and controlled distribution pattern. Drip irrigation is the most expensive and least-used type, but offers the ability to deliver water to plant roots with minimal losses. However, drip irrigation is increasingly affordable, especially for the home gardener and in light of rising water rates. Using drip irrigation methods can save up to 30,000 gallons of water per year when replacing irrigation systems that spray in all directions.[26] There are also cheap effective methods similar to drip irrigation such as the use of soaking hoses that can even be submerged in the growing medium to eliminate evaporation.\n",
        "\n",
        "As changing irrigation systems can be a costly undertaking, conservation efforts often concentrate on maximizing the efficiency of the existing system. This may include chiselling compacted soils, creating furrow dikes to prevent runoff, and using soil moisture and rainfall sensors to optimize irrigation schedules.[17] Usually large gains in efficiency are possible through measurement and more effective management of the existing irrigation system. The 2011 UNEP Green Economy Report notes that \"[i]mproved soil organic matter from the use of green manures, mulching, and recycling of crop residues and animal manure increases the water holding capacity of soils and their ability to absorb water during torrential rains\",[27] which is a way to optimize the use of rainfall and irrigation during dry periods in the season.\n",
        "\n",
        "Water Reuse\n",
        "Water shortage has become an increasingly difficult problem to manage. More than 40% of the world's population live in a region where the demand for water exceeds its supply. The imbalance between supply and demand, along with persisting issues such as climate change and population growth, has made water reuse a necessary method for conserving water.[28] There are a variety of methods used in the treatment of waste water to ensure that it is safe to use for irrigation of food crops and/or drinking water.\n",
        "\n",
        "Seawater desalination requires more energy than the desalination of fresh water. Despite this, many seawater desalination plants have been built in response to water shortages around the world. This makes it necessary to evaluate the impacts of seawater desalination and to find ways to improve desalination technology. Current research involves the use of experiments to determine the most effective and least energy intensive methods of desalination.[29][30]\n",
        "\n",
        "Sand filtration is another method used to treat water. Recent studies show that sand filtration needs further improvements, but it is approaching optimization with its effectiveness at removing pathogens from water.[31][32] Sand filtration is very effective at removing protozoa and bacteria, but struggles with removing viruses.[33] Large-scale sand filtration facilities also require large surface areas to accommodate them.\n",
        "\n",
        "The removal of pathogens from recycled water is of high priority because wastewater always contains pathogens capable of infecting humans. The levels of pathogenic viruses have to be reduced to a certain level in order for recycled water to not pose a threat to human populations. Further research is necessary to determine more accurate methods of assessing the level of pathogenic viruses in treated wastewater.[34]\n",
        "\n",
        "Wasting of water\n",
        "\n",
        "Leaking garden hose bib\n",
        "Wasting of water (also called \"water waste\" in the U.S.) is the flip side of water conservation and, in household applications, it means causing or permitting discharge of water without any practical purpose. Inefficient water use is also considered wasteful. By EPA estimate, household leaks in the U.S. can waste approximately 900 billion gallons (3.4 billion cubic meters) of water annually nationwide.[35] Generally, water management agencies are reluctant or unwilling to give a concrete definition to the somewhat fuzzy concept of water waste.[36] However, definition of water waste is often given in local drought emergency ordinances. One example refers to any acts or omissions, whether willful or negligent, that are “causing or permitting water to leak, discharge, flow or run to waste into any gutter, sanitary sewer, watercourse or public or private storm drain, or to any adjacent property, from any tap, hose, faucet, pipe, sprinkler, pond, pool, waterway, fountain or nozzle.”.[37] In this example, the city code also clarifies that “in the case of washing, “discharge,” “flow” or “run to waste” means that water in excess of that necessary to wash, wet or clean the dirty or dusty object, such as an automobile, sidewalk, or parking area, flows to waste. Water utilities (and other media sources) often provide listings of wasteful water-use practices and prohibitions of wasteful uses. Examples include utilities in San Antonio, Texas.[38] Las Vegas, Nevada,[39] California Water Service company in California,[40] and City of San Diego, California.[41] The City of Palo Alto in California enforces permanent water use restrictions on wasteful practices such as leaks, runoff, irrigating during and immediately after rainfall, and use of potable water when non-potable water is available.[42] Similar restrictions are in effect in the State of Victoria, Australia.[43] Temporary water use bans (also known as \"hosepipe bans\") are used in England, Scotland, Wales and Northern Ireland.[44]\n",
        "\n",
        "Strictly speaking, water that is discharged into the sewer, or directly to the environment is not wasted or lost. It remains within the hydrologic cycle and returns to the land surface and surface water bodies as precipitation. However, in many cases, the source of the water is at a significant distance from the return point and may be in a different catchment. The separation between extraction point and return point can represent significant environmental degradation in the watercourse and riparian strip. What is \"wasted\" is the community's supply of water that was captured, stored, transported and treated to drinking quality standards. Efficient use of water saves the expense of water supply provision and leaves more fresh water in lakes, rivers and aquifers for other users and also for supporting ecosystems. A concept that is closely related to water wasting is \"water-use efficiency.\" Water use is considered inefficient if the same purpose of its use can be accomplished with less water. Technical efficiency derives from engineering practice where it is typically used to describe the ratio of output to input and is useful in comparing various products and processes.[45] For example, one showerhead would be considered more efficient than another if it could accomplish the same purpose (i.e., of showering) by using less water or other inputs (e.g., lower water pressure). However, the technical efficiency concept is not useful in making decisions of investing money (or resources) in water conservation measures unless the inputs and outputs are measured in value terms. This expression of efficiency is referred to as economic efficiency and is incorporated into the concept of water conservation.\n",
        "\n",
        "See also\n",
        "icon\tWater portal\n",
        "icon\tEnvironment portal\n",
        "icon\tEcology portal\n",
        "\tEarth sciences portal\n",
        "icon\tEnergy portal\n",
        "Al Baydha Project\n",
        "Berlin Rules on Water Resources\n",
        "Conservation biology\n",
        "Conservation ethic\n",
        "Conservation movement\n",
        "Deficit irrigation\n",
        "Ecology movement\n",
        "Environmental protection\n",
        "GreenPlumbers\n",
        "Hydrozoning\n",
        "Micro-sustainability\n",
        "Outdoor water-use restriction\n",
        "Pan evaporation\n",
        "Peak water\n",
        "Population growth\n",
        "Residential water use in the U.S. and Canada\n",
        "Nonresidential water use in the U.S.\n",
        "Non-revenue water\n",
        "Sustainable agriculture\n",
        "Utility submeter\n",
        "Water cascade analysis\n",
        "Water metering\n",
        "Water pinch\n",
        "WaterSense - EPA conservation program\n",
        "Water use\n",
        "Water waste\n",
        "References\n",
        " \"Water conservation « Defra\". defra.gov.uk. 2013. Retrieved January 24, 2013.\n",
        " \"Cases in Water Conservation: How Efficiency Programs Help Water Utilities Save Water and Avoid Costs\" (PDF). EPA.gov. US Environmental Protection Agency.\n",
        " Hermoso, Virgilio; Abell, Robin; Linke, Simon; Boon, Philip (2016). \"The role of protected areas for freshwater biodiversity conservation: challenges and opportunities in a rapidly changing world\". Aquatic Conservation: Marine and Freshwater Ecosystems. 26 (S1): 3–11. doi:10.1002/aqc.2681.\n",
        " Duane D. Baumann; John J. Boland; John H. Sims (April 1984). \"Water Conservation: The Struggle over Definition\". Water Resources Research. 20 (4): 428–434. doi:10.1029/WR020i004p00428.\n",
        " Vickers, Amy (2002). Water Use and Conservation. Amherst, MA: water plow Press. p. 434. ISBN 978-1-931579-07-0.\n",
        " Geerts, S.; Raes, D. (2009). \"Deficit irrigation as an on-farm strategy to maximize crop water productivity in dry areas\". Agric. Water Manage. 96 (9): 1275–1284. doi:10.1016/j.agwat.2009.04.009.\n",
        " Kumar Kurunthachalam, Senthil (2014). \"Water Conservation and Sustainability: An Utmost Importance\". Hydrol Current Res.\n",
        " \"Description of the Hydrologic Cycle\". nwrfc.noaa.gov/rfc/. NOAA River Forecast Center.\n",
        " \"Potential threats to Groundwater\". groundwater.org/. The Groundwater Foundation.\n",
        " Delgado, Jorge A.; Groffman, Peter M.; Nearing, Mark A.; Goddard, Tom; Reicosky, Don; Lal, Rattan; Kitchen, Newell R.; Rice, Charles W.; Towery, Dan; Salon, Paul (1 July 2011). \"Conservation practices to mitigate and adapt to climate change\". Journal of Soil and Water Conservation. 66 (4): 118A–129A. doi:10.2489/jswc.66.4.118A. ISSN 0022-4561. Retrieved 25 May 2018.\n",
        " \"Water - Use It Wisely.\" U.S. multi-city public outreach program. Park & Co., Phoenix, AZ. Accessed 2010-02-02.\n",
        " U.S. Environmental Protection Agency (EPA) (2002). Cases in Water Conservation (PDF) (Report). Retrieved 2010-02-02. Document No. EPA-832-B-02-003.\n",
        " Albuquerque Bernalillo County Water Utility Authority (2009-02-06). \"Xeriscape Rebates\". Albuquerque, NM. Retrieved 2010-02-02.\n",
        " Heberger, Matthew (2014). \"Issue Brief\" (PDF). Urban Water Conservation and Efficiency Potential in California: 12.\n",
        " \"Time for universal water metering?\" Innovations Report. May 2006.\n",
        " Environment Canada (2005). Municipal Water Use, 2001 Statistics (PDF) (Report). Retrieved 2010-02-02. Cat. No. En11-2/2001E-PDF. ISBN 0-662-39504-2. p. 3.\n",
        " EPA (2010-01-13). \"How to Conserve Water and Use It Effectively\". Washington, DC. Retrieved 2010-02-03.\n",
        " Pimentel, Berger; et al. (October 2004). \"Water resources: agricultural and environmental issues\". BioScience. 54 (10): 909. doi:10.1641/0006-3568(2004)054[0909:WRAAEI]2.0.CO;2.\n",
        " \"Reduce Hot Water Use for Energy Savings\". Energy.gov. Retrieved 2019-03-20.\n",
        " Team VIRTUe bouwt slim en duurzaam huis dat mens en technologie verbindt\n",
        " Team VIRTUe presenting LINQ\n",
        " \"Water Usage Calculator, Water Conservation and Efficiency - Home Water Works\". www.home-water-works.org.\n",
        " Attari, Shahzeen Z. (26 February 2014). \"Perceptions of water use\". Proceedings of the National Academy of Sciences. 111 (14): 5129–34. doi:10.1073/pnas.1316402111. PMC 3986180. PMID 24591608 – via www.pnas.org.\n",
        " Mayer, P.W.; DeOreo, W.B.; Opitz, E.M.; Kiefer, J.C.; Davis, W.Y.; Dziegielewski, B.; & Nelson, J.O., 1999. Residential End Uses of Water. AWWARF and AWWA, Denver. http://www.waterrf.org/PublicReportLibrary/RFR90781_1999_241A.pdf\n",
        " William B. DeOreo, Peter Mayer, Benedykt Dziegielewski, Jack Kiefer. 2016. Residential End Uses of Water, Version 2. Water Research Foundation. Denver, Colorado. http://www.waterrf.org/Pages/Projects.aspx?PID=4309\n",
        " \"Water-Saving Technologies\". WaterSense: An EPA Partnership Program. US Environmental Protection Agency.\n",
        " UNEP, 2011, Towards a Green Economy: Pathways to Sustainable Development and Poverty Eradication, www.unep.org/greeneconomy\n",
        " Fatta-Kassinos, Despo; Dionysiou, Dionysios D.; Kümmerer, Klaus (2016). Wastewater Reuse and Current Challenges - Springer. The Handbook of Environmental Chemistry. 44. doi:10.1007/978-3-319-23892-0. ISBN 978-3-319-23891-3.\n",
        " Elimelech, Menachem; Phillip, William A. (2011-08-05). \"The Future of Seawater Desalination: Energy, Technology, and the Environment\". Science. 333 (6043): 712–717. doi:10.1126/science.1200488. ISSN 0036-8075. PMID 21817042.\n",
        " Han, Songlee; Rhee, Young-Woo; Kang, Seong-Pil (2017-02-17). \"Investigation of salt removal using cyclopentane hydrate formation and washing treatment for seawater desalination\". Desalination. 404: 132–137. doi:10.1016/j.desal.2016.11.016.\n",
        " Seeger, Eva M.; Braeckevelt, Mareike; Reiche, Nils; Müller, Jochen A.; Kästner, Matthias (2016-10-01). \"Removal of pathogen indicators from secondary effluent using slow sand filtration: Optimization approaches\". Ecological Engineering. 95: 635–644. doi:10.1016/j.ecoleng.2016.06.068.\n",
        " Vries, D.; Bertelkamp, C.; Kegel, F. Schoonenberg; Hofs, B.; Dusseldorp, J.; Bruins, J. H.; de Vet, W.; van den Akker, B. (2017). \"Iron and manganese removal: Recent advances in modelling treatment efficiency by rapid sand filtration\". Water Research. 109: 35–45. doi:10.1016/j.watres.2016.11.032. PMID 27865171.\n",
        " \"Slow Sand Filtration\". CDC.gov. May 2, 2014.\n",
        " Gerba, Charles P.; Betancourt, Walter Q.; Kitajima, Masaaki (2017). \"How much reduction of virus is needed for recycled water: A continuous changing need for assessment?\". Water Research. 108: 25–31. doi:10.1016/j.watres.2016.11.020. PMID 27838026.\n",
        " \"Statistics and Facts &#124; WaterSense &#124; US EPA\". Epa.gov. 2017-01-23. Retrieved 2017-07-11.\n",
        " \"Janet C. Neuman. Beneficial Use, Waste, and Forfeiture:The Inefficient Search for Efficiency in Western Water Use\" (PDF). Retrieved 2017-08-06.\n",
        " \"14.09.030 Definition of water waste\". Qcode.us. Retrieved 2017-07-11.\n",
        " \"SAWS Report Water Waste - What is Water Waste?\". Saws.org. Retrieved 2017-07-11.\n",
        " \"Water Waste\". Lvvwd.com. Retrieved 2017-07-11.\n",
        " \"Report Water Waste\". Cal Water. 2015-12-03. Retrieved 2017-07-11.\n",
        " \"Water Saving Tips | City of San Diego Official Website\". Sandiego.gov. Retrieved 2017-07-11.\n",
        " \"Water & Drought Update - Palo Alto Water Use Guidelines\". Retrieved 2017-08-06.\n",
        " \"Permanent water saving rules\". Retrieved 2017-08-06.\n",
        " Water UK http://www.water.org.uk/consumers/tubs\n",
        " Dziegielewski, B. J.; Kiefer, C. (January 22, 2010). \"Water Conservation Measurement Metrics: Guidance Report\" (PDF). American Water Works Association.\n",
        "External links\n",
        "Water Efficiency Magazine — Journal for Water Conservation Professionals\n",
        "Water Conservation Community of Interest — American Water Works Association\n",
        "Water Conservation — Water Quality Information Center, National Agricultural Library, U.S. Department of Agriculture\n",
        "Alliance for Water Efficiency (AWE)\n",
        "Smart WaterMark — Australian Water Conservation Label\n",
        "vte\n",
        "Sustainability\n",
        "vte\n",
        "Natural resources\n",
        "Categories: Water conservationEnvironmental issues with waterSustainable designWaste minimisationScoutcraft\n",
        "\"\"\"]"
      ],
      "execution_count": null,
      "outputs": []
    },
    {
      "cell_type": "code",
      "metadata": {
        "id": "Iy-c4cjzHfXb",
        "outputId": "a7a85076-85d1-4958-fa00-3e4efe9a3ddd",
        "colab": {
          "base_uri": "https://localhost:8080/",
          "height": 360
        }
      },
      "source": [
        "for text in texts:\n",
        "  sentences=nltk.sent_tokenize(text)\n",
        "  print(sentences)\n",
        "  for sentence in sentences[0:1]:\n",
        "    words=nltk.word_tokenize(sentence)\n",
        "    print('*'*100)\n",
        "    print('words: ',words)\n",
        "    tagged_words=nltk.pos_tag(words)\n",
        "    print('*'*100)\n",
        "    print('tagged words: ',tagged_words)\n",
        "    ne_tagged_words=nltk.ne_chunk(tagged_words)\n",
        "    print(ne_tagged_words)"
      ],
      "execution_count": null,
      "outputs": [
        {
          "output_type": "stream",
          "text": [
            "['\\nWiki Loves Monuments: Photograph a monument, help Wikipedia and win!', 'Learn more\\nWater conservation\\nFrom Wikipedia, the free encyclopedia\\nJump to navigationJump to search\\n\\nUnited States 1960 postal stamp advocating water conservation.', 'Water conservation includes all the policies, strategies and activities to sustainably manage the natural resource of fresh water, to protect the hydrosphere, and to meet the current and future human demand.', 'Population, household size, and growth and affluence all affect how much water is used.', 'Factors such as climate change have increased pressures on natural water resources especially in manufacturing and agricultural irrigation.', '[1] Many countries have already implemented policies aimed at water conservation, with much success.', '[2]\\n\\nThe goals of water conservation efforts include:\\n\\nEnsuring availability of water for future generations where the withdrawal of freshwater from an ecosystem does not exceed its natural replacement rate.', 'Energy conservation as water pumping, delivery and wastewater treatment facilities consume a significant amount of energy.', 'In some regions of the world over 15% of total electricity consumption is devoted to water management.', 'Habitat conservation where minimizing human water use helps to preserve freshwater habitats for local wildlife and migrating waterfowl, but also water quality.', '[3]\\n\\nContents\\n1\\tStrategies\\n2\\tSocial solutions\\n3\\tHousehold applications\\n4\\tCommercial applications\\n5\\tAgricultural applications\\n6\\tWater Reuse\\n7\\tWasting of water\\n8\\tSee also\\n9\\tReferences\\n10\\tExternal links\\nStrategies\\nThe key activities to conserve water are as follows:\\n\\nAny beneficial reduction in water loss, use and waste of resources.', '[4]\\nAvoiding any damage to water quality.', 'Improving water management practices that reduce the use or enhance the beneficial use of water.', '[5][6]\\nOne strategy in water conservation is rain water harvesting.', '[7] Digging ponds, lakes, canals, expanding the water reservoir, and installing rain water catching ducts and filtration systems on homes are different methods of harvesting rain water.', 'Many people in many countries keep clean containers so they can boil it and drink it, which is useful to supply water to the needy.', '[7] Harvested and filtered rain water can be used for toilets, home gardening, lawn irrigation, and small scale agriculture.', '[7]\\n\\nAnother strategy in water conservation is protecting groundwater resources.', 'When precipitation occurs, some infiltrates the soil and goes underground.', '[8] Water in this saturation zone is called groundwater.', '[8] Contamination of groundwater causes the groundwater water supply to not be able to be used as a resource of fresh drinking water and the natural regeneration of contaminated groundwater can take years to replenish.', '[9] Some examples of potential sources of groundwater contamination include storage tanks, septic systems, uncontrolled hazardous waste, landfills, atmospheric contaminants, chemicals, and road salts.', '[9] Contamination of groundwater decreases the replenishment of available freshwater so taking preventative measures by protecting groundwater resources from contamination is an important aspect of water conservation.', '[7]\\n\\nAn additional strategy to water conservation is practicing sustainable methods of utilizing groundwater resources.', '[7] Groundwater flows due to gravity and eventually discharges into streams.', '[8] Excess pumping of groundwater leads to a decrease in groundwater levels and if continued it can exhaust the resource.', '[7] Ground and surface waters are connected and overuse of groundwater can reduce and, in extreme examples, diminish the water supply of lakes, rivers, and streams.', '[9] In coastal regions, over pumping groundwater can increase saltwater intrusion which results in the contamination of groundwater water supply.', '[9] Sustainable use of groundwater is essential in water conservation.', 'A fundamental component to water conservation strategy is communication and education outreach of different water programs.', '[10] Developing communication that educates science to land managers, policy makers, farmers, and the general public is another important strategy utilized in water conservation.', '[10] Communication of the science of how water systems work is an important aspect when creating a management plan to conserve that system and is often used for ensuring the right management plan to be put into action.', '[10]\\n\\nSocial solutions\\n\\nDrip irrigation system in New Mexico\\nWater conservation programs involved in social solutions are typically initiated at the local level, by either municipal water utilities or regional governments.', 'Common strategies include public outreach campaigns,[11] tiered water rates (charging progressively higher prices as water use increases), or restrictions on outdoor water use such as lawn watering and car washing.', '[12] Cities in dry climates often require or encourage the installation of xeriscaping or natural landscaping in new homes to reduce outdoor water usage.', '[13] Most urban outdoor water use in California is residential,[14] illustrating a reason for outreach to households as well as businesses.', 'One fundamental conservation goal is universal metering.', 'The prevalence of residential water metering varies significantly worldwide.', 'Recent studies have estimated that water supplies are metered in less than 30% of UK households,[15] and about 61% of urban Canadian homes (as of 2001).', '[16] Although individual water meters have often been considered impractical in homes with private wells or in multifamily buildings, the U.S. Environmental Protection Agency estimates that metering alone can reduce consumption by 20 to 40 percent.', '[17] In addition to raising consumer awareness of their water use, metering is also an important way to identify and localize water leakage.', 'Water metering would benefit society, in the long run, it is proven that water metering increases the efficiency of the entire water system, as well as help unnecessary expenses for individuals for years to come.', 'One would be unable to waste water unless they are willing to pay the extra charges, this way the water department would be able to monitor water usage by the public, domestic and manufacturing services.', \"Some researchers have suggested that water conservation efforts should be primarily directed at farmers, in light of the fact that crop irrigation accounts for 70% of the world's fresh water use.\", '[18] The agricultural sector of most countries is important both economically and politically, and water subsidies are common.', 'Conservation advocates have urged removal of all subsidies to force farmers to grow more water-efficient crops and adopt less wasteful irrigation techniques.', '[citation needed]\\n\\nNew technology poses a few new options for consumers, features such as full flush and half flush when using a toilet are trying to make a difference in water consumption and waste.', 'It is also possible to use/\"pollute\" the water in stages (keeping use in flush toilets for last), hereby allowing more use of the water for various tasks within a same cycle (before it needs to be purified again, which can also be done in-situ).', 'Earthships often use such a setup.', 'Also available are modern shower heads that help reduce wasting water: Old shower heads are said to use 5-10 gallons per minute, while new fixtures available use 2.5 gallons per minute and offer equal water coverage.', '[19] Another method is to recycle the water of the shower directly, by means a semi-closed system which features a pump and filter.', 'Such a setup (called a \"water recycling shower\") has also been employed at the VIRTUe LINQ house.', 'Besides recycling water, it also reuses the heat of the water (which would otherwise be lost).', '[20][21]\\n\\nHousehold applications\\nThe Home Water Works website contains useful information on household water conservation.', '[22] Contrary to the popular view that the most effective way to save water is to curtail water-using behavior (e.g., by taking shorter showers),[23] experts suggest the most efficient way is replacing toilets and retrofitting washers; as demonstrated by two household end use logging studies in the U.S.[24][25]\\n\\nWater-saving technology for the home includes:\\n\\nLow-flow shower heads sometimes called energy-efficient shower heads as they also use less energy\\nLow-flush toilets, composting toilets and incinerating toilets.', 'Composting toilets have a dramatic impact in the developed world, as conventional Western flush toilets use large volumes of water\\nDual flush toilets created by Caroma includes two buttons or handles to flush different levels of water.', 'Dual flush toilets use up to 67% less water than conventional toilets\\nFaucet aerators, which break water flow into fine droplets to maintain \"wetting effectiveness\" while using less water.', 'An additional benefit is that they reduce splashing while washing hands and dishes\\nRaw water flushing where toilets use sea water or non-purified water (i.e.', 'greywater)\\nWastewater reuse or recycling systems, allowing:\\nReuse of graywater for flushing toilets or watering gardens\\nRecycling of wastewater through purification at a water treatment plant.', 'See also Wastewater - Reuse\\nRainwater harvesting\\nHigh-efficiency clothes washers\\nWeather-based irrigation controllers\\nGarden hose nozzles that shut off the water when it is not being used, instead of letting a hose run.', 'Low flow taps in wash basins\\nSwimming pool covers that reduce evaporation and can warm pool water to reduce water, energy and chemical costs.', 'Automatic faucet is a water conservation faucet that eliminates water waste at the faucet.', 'It automates the use of faucets without the use of hands.', 'Commercial applications\\nMany water-saving devices (such as low-flush toilets) that are useful in homes can also be useful for business water saving.', 'Other water-saving technology for businesses includes:\\n\\nWaterless urinals\\nWaterless car washes\\nInfrared or foot-operated taps, which can save water by using short bursts of water for rinsing in a kitchen or bathroom\\nPressurized waterbrooms, which can be used instead of a hose to clean sidewalks\\nX-ray film processor re-circulation systems\\nCooling tower conductivity controllers\\nWater-saving steam sterilizers, for use in hospitals and health care facilities\\nRain water harvesting\\nWater to Water heat exchangers.', 'Agricultural applications\\n\\nOverhead irrigation, center pivot design\\nFor crop irrigation, optimal water efficiency means minimizing losses due to evaporation, runoff or subsurface drainage while maximizing production.', 'An evaporation pan in combination with specific crop correction factors can be used to determine how much water is needed to satisfy plant requirements.', 'Flood irrigation, the oldest and most common type, is often very uneven in distribution, as parts of a field may receive excess water in order to deliver sufficient quantities to other parts.', 'Overhead irrigation, using center-pivot or lateral-moving sprinklers, has the potential for a much more equal and controlled distribution pattern.', 'Drip irrigation is the most expensive and least-used type, but offers the ability to deliver water to plant roots with minimal losses.', 'However, drip irrigation is increasingly affordable, especially for the home gardener and in light of rising water rates.', 'Using drip irrigation methods can save up to 30,000 gallons of water per year when replacing irrigation systems that spray in all directions.', '[26] There are also cheap effective methods similar to drip irrigation such as the use of soaking hoses that can even be submerged in the growing medium to eliminate evaporation.', 'As changing irrigation systems can be a costly undertaking, conservation efforts often concentrate on maximizing the efficiency of the existing system.', 'This may include chiselling compacted soils, creating furrow dikes to prevent runoff, and using soil moisture and rainfall sensors to optimize irrigation schedules.', '[17] Usually large gains in efficiency are possible through measurement and more effective management of the existing irrigation system.', 'The 2011 UNEP Green Economy Report notes that \"[i]mproved soil organic matter from the use of green manures, mulching, and recycling of crop residues and animal manure increases the water holding capacity of soils and their ability to absorb water during torrential rains\",[27] which is a way to optimize the use of rainfall and irrigation during dry periods in the season.', 'Water Reuse\\nWater shortage has become an increasingly difficult problem to manage.', \"More than 40% of the world's population live in a region where the demand for water exceeds its supply.\", 'The imbalance between supply and demand, along with persisting issues such as climate change and population growth, has made water reuse a necessary method for conserving water.', '[28] There are a variety of methods used in the treatment of waste water to ensure that it is safe to use for irrigation of food crops and/or drinking water.', 'Seawater desalination requires more energy than the desalination of fresh water.', 'Despite this, many seawater desalination plants have been built in response to water shortages around the world.', 'This makes it necessary to evaluate the impacts of seawater desalination and to find ways to improve desalination technology.', 'Current research involves the use of experiments to determine the most effective and least energy intensive methods of desalination.', '[29][30]\\n\\nSand filtration is another method used to treat water.', 'Recent studies show that sand filtration needs further improvements, but it is approaching optimization with its effectiveness at removing pathogens from water.', '[31][32] Sand filtration is very effective at removing protozoa and bacteria, but struggles with removing viruses.', '[33] Large-scale sand filtration facilities also require large surface areas to accommodate them.', 'The removal of pathogens from recycled water is of high priority because wastewater always contains pathogens capable of infecting humans.', 'The levels of pathogenic viruses have to be reduced to a certain level in order for recycled water to not pose a threat to human populations.', 'Further research is necessary to determine more accurate methods of assessing the level of pathogenic viruses in treated wastewater.', '[34]\\n\\nWasting of water\\n\\nLeaking garden hose bib\\nWasting of water (also called \"water waste\" in the U.S.) is the flip side of water conservation and, in household applications, it means causing or permitting discharge of water without any practical purpose.', 'Inefficient water use is also considered wasteful.', 'By EPA estimate, household leaks in the U.S. can waste approximately 900 billion gallons (3.4 billion cubic meters) of water annually nationwide.', '[35] Generally, water management agencies are reluctant or unwilling to give a concrete definition to the somewhat fuzzy concept of water waste.', '[36] However, definition of water waste is often given in local drought emergency ordinances.', 'One example refers to any acts or omissions, whether willful or negligent, that are “causing or permitting water to leak, discharge, flow or run to waste into any gutter, sanitary sewer, watercourse or public or private storm drain, or to any adjacent property, from any tap, hose, faucet, pipe, sprinkler, pond, pool, waterway, fountain or nozzle.”.', '[37] In this example, the city code also clarifies that “in the case of washing, “discharge,” “flow” or “run to waste” means that water in excess of that necessary to wash, wet or clean the dirty or dusty object, such as an automobile, sidewalk, or parking area, flows to waste.', 'Water utilities (and other media sources) often provide listings of wasteful water-use practices and prohibitions of wasteful uses.', 'Examples include utilities in San Antonio, Texas.', '[38] Las Vegas, Nevada,[39] California Water Service company in California,[40] and City of San Diego, California.', '[41] The City of Palo Alto in California enforces permanent water use restrictions on wasteful practices such as leaks, runoff, irrigating during and immediately after rainfall, and use of potable water when non-potable water is available.', '[42] Similar restrictions are in effect in the State of Victoria, Australia.', '[43] Temporary water use bans (also known as \"hosepipe bans\") are used in England, Scotland, Wales and Northern Ireland.', '[44]\\n\\nStrictly speaking, water that is discharged into the sewer, or directly to the environment is not wasted or lost.', 'It remains within the hydrologic cycle and returns to the land surface and surface water bodies as precipitation.', 'However, in many cases, the source of the water is at a significant distance from the return point and may be in a different catchment.', 'The separation between extraction point and return point can represent significant environmental degradation in the watercourse and riparian strip.', 'What is \"wasted\" is the community\\'s supply of water that was captured, stored, transported and treated to drinking quality standards.', 'Efficient use of water saves the expense of water supply provision and leaves more fresh water in lakes, rivers and aquifers for other users and also for supporting ecosystems.', 'A concept that is closely related to water wasting is \"water-use efficiency.\"', 'Water use is considered inefficient if the same purpose of its use can be accomplished with less water.', 'Technical efficiency derives from engineering practice where it is typically used to describe the ratio of output to input and is useful in comparing various products and processes.', '[45] For example, one showerhead would be considered more efficient than another if it could accomplish the same purpose (i.e., of showering) by using less water or other inputs (e.g., lower water pressure).', 'However, the technical efficiency concept is not useful in making decisions of investing money (or resources) in water conservation measures unless the inputs and outputs are measured in value terms.', 'This expression of efficiency is referred to as economic efficiency and is incorporated into the concept of water conservation.', 'See also\\nicon\\tWater portal\\nicon\\tEnvironment portal\\nicon\\tEcology portal\\n\\tEarth sciences portal\\nicon\\tEnergy portal\\nAl Baydha Project\\nBerlin Rules on Water Resources\\nConservation biology\\nConservation ethic\\nConservation movement\\nDeficit irrigation\\nEcology movement\\nEnvironmental protection\\nGreenPlumbers\\nHydrozoning\\nMicro-sustainability\\nOutdoor water-use restriction\\nPan evaporation\\nPeak water\\nPopulation growth\\nResidential water use in the U.S. and Canada\\nNonresidential water use in the U.S.\\nNon-revenue water\\nSustainable agriculture\\nUtility submeter\\nWater cascade analysis\\nWater metering\\nWater pinch\\nWaterSense - EPA conservation program\\nWater use\\nWater waste\\nReferences\\n \"Water conservation « Defra\".', 'defra.gov.uk.', '2013.', 'Retrieved January 24, 2013.', '\"Cases in Water Conservation: How Efficiency Programs Help Water Utilities Save Water and Avoid Costs\" (PDF).', 'EPA.gov.', 'US Environmental Protection Agency.', 'Hermoso, Virgilio; Abell, Robin; Linke, Simon; Boon, Philip (2016).', '\"The role of protected areas for freshwater biodiversity conservation: challenges and opportunities in a rapidly changing world\".', 'Aquatic Conservation: Marine and Freshwater Ecosystems.', '26 (S1): 3–11.', 'doi:10.1002/aqc.2681.', 'Duane D. Baumann; John J. Boland; John H. Sims (April 1984).', '\"Water Conservation: The Struggle over Definition\".', 'Water Resources Research.', '20 (4): 428–434.', 'doi:10.1029/WR020i004p00428.', 'Vickers, Amy (2002).', 'Water Use and Conservation.', 'Amherst, MA: water plow Press.', 'p. 434.', 'ISBN 978-1-931579-07-0.', 'Geerts, S.; Raes, D. (2009).', '\"Deficit irrigation as an on-farm strategy to maximize crop water productivity in dry areas\".', 'Agric.', 'Water Manage.', '96 (9): 1275–1284.', 'doi:10.1016/j.agwat.2009.04.009.', 'Kumar Kurunthachalam, Senthil (2014).', '\"Water Conservation and Sustainability: An Utmost Importance\".', 'Hydrol Current Res.', '\"Description of the Hydrologic Cycle\".', 'nwrfc.noaa.gov/rfc/.', 'NOAA River Forecast Center.', '\"Potential threats to Groundwater\".', 'groundwater.org/.', 'The Groundwater Foundation.', 'Delgado, Jorge A.; Groffman, Peter M.; Nearing, Mark A.; Goddard, Tom; Reicosky, Don; Lal, Rattan; Kitchen, Newell R.; Rice, Charles W.; Towery, Dan; Salon, Paul (1 July 2011).', '\"Conservation practices to mitigate and adapt to climate change\".', 'Journal of Soil and Water Conservation.', '66 (4): 118A–129A.', 'doi:10.2489/jswc.66.4.118A.', 'ISSN 0022-4561.', 'Retrieved 25 May 2018.', '\"Water - Use It Wisely.\"', 'U.S. multi-city public outreach program.', 'Park & Co., Phoenix, AZ.', 'Accessed 2010-02-02.', 'U.S. Environmental Protection Agency (EPA) (2002).', 'Cases in Water Conservation (PDF) (Report).', 'Retrieved 2010-02-02.', 'Document No.', 'EPA-832-B-02-003.', 'Albuquerque Bernalillo County Water Utility Authority (2009-02-06).', '\"Xeriscape Rebates\".', 'Albuquerque, NM.', 'Retrieved 2010-02-02.', 'Heberger, Matthew (2014).', '\"Issue Brief\" (PDF).', 'Urban Water Conservation and Efficiency Potential in California: 12.', '\"Time for universal water metering?\"', 'Innovations Report.', 'May 2006.', 'Environment Canada (2005).', 'Municipal Water Use, 2001 Statistics (PDF) (Report).', 'Retrieved 2010-02-02.', 'Cat.', 'No.', 'En11-2/2001E-PDF.', 'ISBN 0-662-39504-2. p. 3.', 'EPA (2010-01-13).', '\"How to Conserve Water and Use It Effectively\".', 'Washington, DC.', 'Retrieved 2010-02-03.', 'Pimentel, Berger; et al.', '(October 2004).', '\"Water resources: agricultural and environmental issues\".', 'BioScience.', '54 (10): 909. doi:10.1641/0006-3568(2004)054[0909:WRAAEI]2.0.CO;2.', '\"Reduce Hot Water Use for Energy Savings\".', 'Energy.gov.', 'Retrieved 2019-03-20.', 'Team VIRTUe bouwt slim en duurzaam huis dat mens en technologie verbindt\\n Team VIRTUe presenting LINQ\\n \"Water Usage Calculator, Water Conservation and Efficiency - Home Water Works\".', 'www.home-water-works.org.', 'Attari, Shahzeen Z.', '(26 February 2014).', '\"Perceptions of water use\".', 'Proceedings of the National Academy of Sciences.', '111 (14): 5129–34.', 'doi:10.1073/pnas.1316402111.', 'PMC 3986180.', 'PMID 24591608 – via www.pnas.org.', 'Mayer, P.W.', '; DeOreo, W.B.', '; Opitz, E.M.; Kiefer, J.C.; Davis, W.Y.', '; Dziegielewski, B.; & Nelson, J.O., 1999.', 'Residential End Uses of Water.', 'AWWARF and AWWA, Denver.', 'http://www.waterrf.org/PublicReportLibrary/RFR90781_1999_241A.pdf\\n William B. DeOreo, Peter Mayer, Benedykt Dziegielewski, Jack Kiefer.', '2016.', 'Residential End Uses of Water, Version 2.', 'Water Research Foundation.', 'Denver, Colorado.', 'http://www.waterrf.org/Pages/Projects.aspx?PID=4309\\n \"Water-Saving Technologies\".', 'WaterSense: An EPA Partnership Program.', 'US Environmental Protection Agency.', 'UNEP, 2011, Towards a Green Economy: Pathways to Sustainable Development and Poverty Eradication, www.unep.org/greeneconomy\\n Fatta-Kassinos, Despo; Dionysiou, Dionysios D.; Kümmerer, Klaus (2016).', 'Wastewater Reuse and Current Challenges - Springer.', 'The Handbook of Environmental Chemistry.', '44. doi:10.1007/978-3-319-23892-0.', 'ISBN 978-3-319-23891-3.', 'Elimelech, Menachem; Phillip, William A.', '(2011-08-05).', '\"The Future of Seawater Desalination: Energy, Technology, and the Environment\".', 'Science.', '333 (6043): 712–717.', 'doi:10.1126/science.1200488.', 'ISSN 0036-8075.', 'PMID 21817042.', 'Han, Songlee; Rhee, Young-Woo; Kang, Seong-Pil (2017-02-17).', '\"Investigation of salt removal using cyclopentane hydrate formation and washing treatment for seawater desalination\".', 'Desalination.', '404: 132–137.', 'doi:10.1016/j.desal.2016.11.016.', 'Seeger, Eva M.; Braeckevelt, Mareike; Reiche, Nils; Müller, Jochen A.; Kästner, Matthias (2016-10-01).', '\"Removal of pathogen indicators from secondary effluent using slow sand filtration: Optimization approaches\".', 'Ecological Engineering.', '95: 635–644.', 'doi:10.1016/j.ecoleng.2016.06.068.', 'Vries, D.; Bertelkamp, C.; Kegel, F. Schoonenberg; Hofs, B.; Dusseldorp, J.; Bruins, J. H.; de Vet, W.; van den Akker, B.', '(2017).', '\"Iron and manganese removal: Recent advances in modelling treatment efficiency by rapid sand filtration\".', 'Water Research.', '109: 35–45.', 'doi:10.1016/j.watres.2016.11.032.', 'PMID 27865171.', '\"Slow Sand Filtration\".', 'CDC.gov.', 'May 2, 2014.', 'Gerba, Charles P.; Betancourt, Walter Q.; Kitajima, Masaaki (2017).', '\"How much reduction of virus is needed for recycled water: A continuous changing need for assessment?\".', 'Water Research.', '108: 25–31.', 'doi:10.1016/j.watres.2016.11.020.', 'PMID 27838026.', '\"Statistics and Facts &#124; WaterSense &#124; US EPA\".', 'Epa.gov.', '2017-01-23.', 'Retrieved 2017-07-11.', '\"Janet C. Neuman.', 'Beneficial Use, Waste, and Forfeiture:The Inefficient Search for Efficiency in Western Water Use\" (PDF).', 'Retrieved 2017-08-06.', '\"14.09.030 Definition of water waste\".', 'Qcode.us.', 'Retrieved 2017-07-11.', '\"SAWS Report Water Waste - What is Water Waste?\".', 'Saws.org.', 'Retrieved 2017-07-11.', '\"Water Waste\".', 'Lvvwd.com.', 'Retrieved 2017-07-11.', '\"Report Water Waste\".', 'Cal Water.', '2015-12-03.', 'Retrieved 2017-07-11.', '\"Water Saving Tips | City of San Diego Official Website\".', 'Sandiego.gov.', 'Retrieved 2017-07-11.', '\"Water & Drought Update - Palo Alto Water Use Guidelines\".', 'Retrieved 2017-08-06.', '\"Permanent water saving rules\".', 'Retrieved 2017-08-06.', 'Water UK http://www.water.org.uk/consumers/tubs\\n Dziegielewski, B. J.; Kiefer, C. (January 22, 2010).', '\"Water Conservation Measurement Metrics: Guidance Report\" (PDF).', 'American Water Works Association.', 'External links\\nWater Efficiency Magazine — Journal for Water Conservation Professionals\\nWater Conservation Community of Interest — American Water Works Association\\nWater Conservation — Water Quality Information Center, National Agricultural Library, U.S. Department of Agriculture\\nAlliance for Water Efficiency (AWE)\\nSmart WaterMark — Australian Water Conservation Label\\nvte\\nSustainability\\nvte\\nNatural resources\\nCategories: Water conservationEnvironmental issues with waterSustainable designWaste minimisationScoutcraft']\n",
            "****************************************************************************************************\n",
            "words:  ['Wiki', 'Loves', 'Monuments', ':', 'Photograph', 'a', 'monument', ',', 'help', 'Wikipedia', 'and', 'win', '!']\n",
            "****************************************************************************************************\n",
            "tagged words:  [('Wiki', 'NNP'), ('Loves', 'VBZ'), ('Monuments', 'NNS'), (':', ':'), ('Photograph', 'VB'), ('a', 'DT'), ('monument', 'NN'), (',', ','), ('help', 'NN'), ('Wikipedia', 'NNP'), ('and', 'CC'), ('win', 'VB'), ('!', '.')]\n",
            "(S\n",
            "  (GPE Wiki/NNP)\n",
            "  Loves/VBZ\n",
            "  Monuments/NNS\n",
            "  :/:\n",
            "  Photograph/VB\n",
            "  a/DT\n",
            "  monument/NN\n",
            "  ,/,\n",
            "  help/NN\n",
            "  (PERSON Wikipedia/NNP)\n",
            "  and/CC\n",
            "  win/VB\n",
            "  !/.)\n"
          ],
          "name": "stdout"
        }
      ]
    },
    {
      "cell_type": "markdown",
      "metadata": {
        "id": "pNKgpIqKeF-m"
      },
      "source": [
        "**Implementing Tokenization**"
      ]
    },
    {
      "cell_type": "code",
      "metadata": {
        "id": "y9sCKLcXIrOc"
      },
      "source": [
        "import nltk\n",
        "text='My dog got bored, and decided to chase our cat. So the cat jumped into my arms'"
      ],
      "execution_count": null,
      "outputs": []
    },
    {
      "cell_type": "code",
      "metadata": {
        "id": "0X-o_kNSe5ca",
        "outputId": "7a7007f4-5f9c-4f53-a95e-12e94f490e82",
        "colab": {
          "base_uri": "https://localhost:8080/",
          "height": 34
        }
      },
      "source": [
        "sent_text=nltk.sent_tokenize(text)\n",
        "print(sent_text)"
      ],
      "execution_count": null,
      "outputs": [
        {
          "output_type": "stream",
          "text": [
            "['My dog got bored, and decided to chase our cat.', 'So the cat jumped into my arms']\n"
          ],
          "name": "stdout"
        }
      ]
    },
    {
      "cell_type": "code",
      "metadata": {
        "id": "bhxE4zkufHve",
        "outputId": "1749d699-72d6-4728-e992-e583ba93b413",
        "colab": {
          "base_uri": "https://localhost:8080/",
          "height": 34
        }
      },
      "source": [
        "word_text=nltk.word_tokenize(text)\n",
        "print(word_text)"
      ],
      "execution_count": null,
      "outputs": [
        {
          "output_type": "stream",
          "text": [
            "['My', 'dog', 'got', 'bored', ',', 'and', 'decided', 'to', 'chase', 'our', 'cat', '.', 'So', 'the', 'cat', 'jumped', 'into', 'my', 'arms']\n"
          ],
          "name": "stdout"
        }
      ]
    },
    {
      "cell_type": "code",
      "metadata": {
        "id": "i0rbJ1xqfb-5",
        "outputId": "bb4bc5dc-693b-4fe8-9f4b-c4d7b7799009",
        "colab": {
          "base_uri": "https://localhost:8080/",
          "height": 54
        }
      },
      "source": [
        "tagged_words=nltk.pos_tag(word_text)\n",
        "print(tagged_words)"
      ],
      "execution_count": null,
      "outputs": [
        {
          "output_type": "stream",
          "text": [
            "[('My', 'PRP$'), ('dog', 'NN'), ('got', 'VBD'), ('bored', 'VBN'), (',', ','), ('and', 'CC'), ('decided', 'VBD'), ('to', 'TO'), ('chase', 'VB'), ('our', 'PRP$'), ('cat', 'NN'), ('.', '.'), ('So', 'IN'), ('the', 'DT'), ('cat', 'NN'), ('jumped', 'VBD'), ('into', 'IN'), ('my', 'PRP$'), ('arms', 'NNS')]\n"
          ],
          "name": "stdout"
        }
      ]
    },
    {
      "cell_type": "code",
      "metadata": {
        "id": "Bik5x9DqfscB",
        "outputId": "8633d464-2c2c-4d43-d84f-5b8a0a02e1ee",
        "colab": {
          "base_uri": "https://localhost:8080/",
          "height": 357
        }
      },
      "source": [
        "ne_tagged_words=nltk.ne_chunk(tagged_words)\n",
        "print(ne_tagged_words)"
      ],
      "execution_count": null,
      "outputs": [
        {
          "output_type": "stream",
          "text": [
            "(S\n",
            "  My/PRP$\n",
            "  dog/NN\n",
            "  got/VBD\n",
            "  bored/VBN\n",
            "  ,/,\n",
            "  and/CC\n",
            "  decided/VBD\n",
            "  to/TO\n",
            "  chase/VB\n",
            "  our/PRP$\n",
            "  cat/NN\n",
            "  ./.\n",
            "  So/IN\n",
            "  the/DT\n",
            "  cat/NN\n",
            "  jumped/VBD\n",
            "  into/IN\n",
            "  my/PRP$\n",
            "  arms/NNS)\n"
          ],
          "name": "stdout"
        }
      ]
    },
    {
      "cell_type": "code",
      "metadata": {
        "id": "TWnp0RBrf-N2",
        "outputId": "85f53a3d-7d62-4b0a-e2f9-c83aef5b4b5b",
        "colab": {
          "base_uri": "https://localhost:8080/",
          "height": 34
        }
      },
      "source": [
        "from nltk.tokenize import TweetTokenizer\n",
        "text='That part was sooooo fun!  :D #superfun'\n",
        "tknzr=TweetTokenizer()\n",
        "tknzr.tokenize(text)"
      ],
      "execution_count": null,
      "outputs": [
        {
          "output_type": "execute_result",
          "data": {
            "text/plain": [
              "['That', 'part', 'was', 'sooooo', 'fun', '!', ':D', '#superfun']"
            ]
          },
          "metadata": {
            "tags": []
          },
          "execution_count": 59
        }
      ]
    },
    {
      "cell_type": "markdown",
      "metadata": {
        "id": "Fg2LJdO3jUA2"
      },
      "source": [
        "**Regular Expression**"
      ]
    },
    {
      "cell_type": "code",
      "metadata": {
        "id": "5JpyCzfngxGq"
      },
      "source": [
        "import nltk\n",
        "from nltk.tag import pos_tag\n",
        "ex='The big yello bird flow over my house'"
      ],
      "execution_count": null,
      "outputs": []
    },
    {
      "cell_type": "code",
      "metadata": {
        "id": "xplzLFEVj5og"
      },
      "source": [
        "def preprocess(sent):\n",
        "  sent=nltk.word_tokenize(sent)\n",
        "  sent=nltk.pos_tag(sent)\n",
        "  return sent"
      ],
      "execution_count": null,
      "outputs": []
    },
    {
      "cell_type": "code",
      "metadata": {
        "id": "LIjRYyFEkqCM",
        "outputId": "11b7c441-5b5b-4a87-b059-d17ee645e34d",
        "colab": {
          "base_uri": "https://localhost:8080/",
          "height": 153
        }
      },
      "source": [
        "sent=preprocess(ex)\n",
        "sent"
      ],
      "execution_count": null,
      "outputs": [
        {
          "output_type": "execute_result",
          "data": {
            "text/plain": [
              "[('The', 'DT'),\n",
              " ('big', 'JJ'),\n",
              " ('yello', 'NN'),\n",
              " ('bird', 'NN'),\n",
              " ('flow', 'NN'),\n",
              " ('over', 'IN'),\n",
              " ('my', 'PRP$'),\n",
              " ('house', 'NN')]"
            ]
          },
          "metadata": {
            "tags": []
          },
          "execution_count": 65
        }
      ]
    },
    {
      "cell_type": "code",
      "metadata": {
        "id": "02bHa0uIk6C9"
      },
      "source": [
        "np_rule=\"NP: {<DT>?<JJ>:<NN>}\""
      ],
      "execution_count": null,
      "outputs": []
    },
    {
      "cell_type": "markdown",
      "metadata": {
        "id": "Ye8Ivqcpma5Y"
      },
      "source": [
        "**chunk parser**"
      ]
    },
    {
      "cell_type": "code",
      "metadata": {
        "id": "ldIqZyEclySC",
        "outputId": "40d6dbd9-09a6-4539-ff93-a7288e36b124",
        "colab": {
          "base_uri": "https://localhost:8080/",
          "height": 34
        }
      },
      "source": [
        "cp=nltk.RegexpParser(np_rule)\n",
        "cs=cp.parse(sent)\n",
        "print(cs)"
      ],
      "execution_count": null,
      "outputs": [
        {
          "output_type": "stream",
          "text": [
            "(S The/DT big/JJ yello/NN bird/NN flow/NN over/IN my/PRP$ house/NN)\n"
          ],
          "name": "stdout"
        }
      ]
    },
    {
      "cell_type": "markdown",
      "metadata": {
        "id": "M2-gcWp6nKGr"
      },
      "source": [
        "**Regular expression used in tokenization**"
      ]
    },
    {
      "cell_type": "code",
      "metadata": {
        "id": "TbdAHAZJmrk8"
      },
      "source": [
        "import nltk\n",
        "from nltk.tokenize import word_tokenize\n",
        "from nltk.tag import pos_tag\n",
        "ex='The big yello bird flow over my house'"
      ],
      "execution_count": null,
      "outputs": []
    },
    {
      "cell_type": "code",
      "metadata": {
        "id": "IoFz7ljHorCN"
      },
      "source": [
        "def preprocessor(ex):\n",
        "  sent=nltk.word_tokenize(ex)\n",
        "  sent=nltk.pos_tag(sent)\n",
        "  return sent"
      ],
      "execution_count": null,
      "outputs": []
    },
    {
      "cell_type": "code",
      "metadata": {
        "id": "6miDRAuzpCW2",
        "outputId": "bc002412-ab6c-4bfb-be1b-64251e9a57a6",
        "colab": {
          "base_uri": "https://localhost:8080/",
          "height": 153
        }
      },
      "source": [
        "sent=preprocessor(ex)\n",
        "sent"
      ],
      "execution_count": null,
      "outputs": [
        {
          "output_type": "execute_result",
          "data": {
            "text/plain": [
              "[('The', 'DT'),\n",
              " ('big', 'JJ'),\n",
              " ('yello', 'NN'),\n",
              " ('bird', 'NN'),\n",
              " ('flow', 'NN'),\n",
              " ('over', 'IN'),\n",
              " ('my', 'PRP$'),\n",
              " ('house', 'NN')]"
            ]
          },
          "metadata": {
            "tags": []
          },
          "execution_count": 71
        }
      ]
    },
    {
      "cell_type": "code",
      "metadata": {
        "id": "8QBwx4nSpI0e"
      },
      "source": [
        "reg_rule=\"NP: {<DT|PRP\\$>?<JJ>*<NN>}\""
      ],
      "execution_count": null,
      "outputs": []
    },
    {
      "cell_type": "code",
      "metadata": {
        "id": "I3PAKMuvphID",
        "outputId": "977cf241-95fd-424e-baa7-24e4e986a124",
        "colab": {
          "base_uri": "https://localhost:8080/",
          "height": 119
        }
      },
      "source": [
        "cp=nltk.RegexpParser(reg_rule)\n",
        "cs=cp.parse(sent)\n",
        "print(cs)"
      ],
      "execution_count": null,
      "outputs": [
        {
          "output_type": "stream",
          "text": [
            "(S\n",
            "  (NP The/DT big/JJ yello/NN)\n",
            "  (NP bird/NN)\n",
            "  (NP flow/NN)\n",
            "  over/IN\n",
            "  (NP my/PRP$ house/NN))\n"
          ],
          "name": "stdout"
        }
      ]
    },
    {
      "cell_type": "markdown",
      "metadata": {
        "id": "hl3uml2N0zDd"
      },
      "source": [
        "**Text Classification**\n",
        "\n",
        "> Naive bayes classifier\n",
        "\n"
      ]
    },
    {
      "cell_type": "code",
      "metadata": {
        "id": "xVECEVx4p4Hd"
      },
      "source": [
        "def gender_features(word):\n",
        "  return{'last_letter': word[-1]}"
      ],
      "execution_count": null,
      "outputs": []
    },
    {
      "cell_type": "code",
      "metadata": {
        "id": "dwYS8nr42coy",
        "outputId": "ef21bcfb-4a4e-4f64-d8bb-b5321488a17b",
        "colab": {
          "base_uri": "https://localhost:8080/",
          "height": 34
        }
      },
      "source": [
        "gender_features('female')"
      ],
      "execution_count": null,
      "outputs": [
        {
          "output_type": "execute_result",
          "data": {
            "text/plain": [
              "{'last_letter': 'e'}"
            ]
          },
          "metadata": {
            "tags": []
          },
          "execution_count": 75
        }
      ]
    },
    {
      "cell_type": "code",
      "metadata": {
        "id": "v13o7zBb2kx_"
      },
      "source": [
        "from nltk.corpus import names\n",
        "labeled_names=([(name,'male') for name in names.words('male.txt')]+\n",
        "              [(name,'female') for name in names.words('female.txt')])"
      ],
      "execution_count": null,
      "outputs": []
    },
    {
      "cell_type": "code",
      "metadata": {
        "id": "ovSYgDdj3Qja"
      },
      "source": [
        "import random\n",
        "random.shuffle(labeled_names)"
      ],
      "execution_count": null,
      "outputs": []
    },
    {
      "cell_type": "code",
      "metadata": {
        "id": "bb7Vo2wu3Xmr"
      },
      "source": [
        "featuresets=[(gender_features(n),gender) for (n,gender) in labeled_names]"
      ],
      "execution_count": null,
      "outputs": []
    },
    {
      "cell_type": "code",
      "metadata": {
        "id": "RrH5LdSw35R9"
      },
      "source": [
        "train_set,test_set=featuresets[500:],featuresets[:500]"
      ],
      "execution_count": null,
      "outputs": []
    },
    {
      "cell_type": "code",
      "metadata": {
        "id": "_61uVeO_4SO3"
      },
      "source": [
        "import nltk\n",
        "classifier=nltk.NaiveBayesClassifier.train(train_set)"
      ],
      "execution_count": null,
      "outputs": []
    },
    {
      "cell_type": "code",
      "metadata": {
        "id": "VgRBxIPA4pgP",
        "outputId": "4854e383-5c0c-4e6e-e03a-5be60e048f50",
        "colab": {
          "base_uri": "https://localhost:8080/",
          "height": 34
        }
      },
      "source": [
        "classifier.classify(gender_features('shubham'))"
      ],
      "execution_count": null,
      "outputs": [
        {
          "output_type": "execute_result",
          "data": {
            "text/plain": [
              "'male'"
            ]
          },
          "metadata": {
            "tags": []
          },
          "execution_count": 112
        }
      ]
    },
    {
      "cell_type": "code",
      "metadata": {
        "id": "DPnFz9SE470Y",
        "outputId": "c243dad9-be99-4ffc-e6f2-9295e14f3835",
        "colab": {
          "base_uri": "https://localhost:8080/",
          "height": 34
        }
      },
      "source": [
        "names.words('female.txt')[0:2]"
      ],
      "execution_count": null,
      "outputs": [
        {
          "output_type": "execute_result",
          "data": {
            "text/plain": [
              "['Abagael', 'Abagail']"
            ]
          },
          "metadata": {
            "tags": []
          },
          "execution_count": 116
        }
      ]
    },
    {
      "cell_type": "code",
      "metadata": {
        "id": "s87hTzvV7s55",
        "outputId": "7e259378-1b6a-40fd-e8e1-e44f9f77bcc1",
        "colab": {
          "base_uri": "https://localhost:8080/",
          "height": 34
        }
      },
      "source": [
        "print(nltk.classify.accuracy(classifier,test_set))"
      ],
      "execution_count": null,
      "outputs": [
        {
          "output_type": "stream",
          "text": [
            "0.764\n"
          ],
          "name": "stdout"
        }
      ]
    },
    {
      "cell_type": "code",
      "metadata": {
        "id": "m4wW41hOGrCe"
      },
      "source": [
        "import nltk\n",
        "nltk.download()"
      ],
      "execution_count": null,
      "outputs": []
    },
    {
      "cell_type": "markdown",
      "metadata": {
        "id": "C61o0gXO-8y1"
      },
      "source": [
        "**Age prediction based on chat**"
      ]
    },
    {
      "cell_type": "code",
      "metadata": {
        "id": "W1PUZ0t39QCR"
      },
      "source": [
        "from nltk.tokenize.casual import EMOTICON_RE"
      ],
      "execution_count": null,
      "outputs": []
    },
    {
      "cell_type": "code",
      "metadata": {
        "id": "FrEI5tRP-ARm"
      },
      "source": [
        "def age_features(message):\n",
        "  emoticon=EMOTICON_RE.findall(' '.join(message))\n",
        "  length=len(message)\n",
        "  if not emoticon:\n",
        "    emoticon=0\n",
        "  else:\n",
        "    emoticon=1\n",
        "  return {'Emoticons':emoticon,'Length':length}"
      ],
      "execution_count": null,
      "outputs": []
    },
    {
      "cell_type": "code",
      "metadata": {
        "id": "L-Zs_gLA-qnZ"
      },
      "source": [
        "from nltk.corpus import nps_chat\n",
        "chatroom20=nps_chat.posts('10-19-20s_706posts.xml')\n",
        "chatroom30=nps_chat.posts('10-19-30s_705posts.xml')\n",
        "chatroom40=nps_chat.posts('10-19-40s_686posts.xml')"
      ],
      "execution_count": null,
      "outputs": []
    },
    {
      "cell_type": "code",
      "metadata": {
        "id": "SS35gHT7AJPj",
        "outputId": "9eebd74f-19ed-4bc0-83e7-f541d710610a",
        "colab": {
          "base_uri": "https://localhost:8080/",
          "height": 187
        }
      },
      "source": [
        "chatroom20[0:10]"
      ],
      "execution_count": null,
      "outputs": [
        {
          "output_type": "execute_result",
          "data": {
            "text/plain": [
              "[['now', 'im', 'left', 'with', 'this', 'gay', 'name'],\n",
              " [':P'],\n",
              " ['PART'],\n",
              " ['hey', 'everyone'],\n",
              " ['ah', 'well'],\n",
              " ['NICK', ':', 'U7'],\n",
              " ['U7', 'is', 'a', 'gay', 'name', '.'],\n",
              " ['.', 'ACTION', 'gives', 'U121', 'a', 'golf', 'clap', '.'],\n",
              " [':)'],\n",
              " ['JOIN']]"
            ]
          },
          "metadata": {
            "tags": []
          },
          "execution_count": 123
        }
      ]
    },
    {
      "cell_type": "code",
      "metadata": {
        "id": "eEiGhEtWAQcO"
      },
      "source": [
        "labeled_chats=([(post,'20s') for post in chatroom20]+\n",
        "              [(post,'30s') for post in chatroom30]+\n",
        "              [(post,'40s') for post in chatroom40])"
      ],
      "execution_count": null,
      "outputs": []
    },
    {
      "cell_type": "code",
      "metadata": {
        "id": "fbEGr8WpCxWq",
        "outputId": "4eab9f38-7b95-4c17-a69a-00456f277adc",
        "colab": {
          "base_uri": "https://localhost:8080/",
          "height": 187
        }
      },
      "source": [
        ""
      ],
      "execution_count": null,
      "outputs": [
        {
          "output_type": "execute_result",
          "data": {
            "text/plain": [
              "[(['now', 'im', 'left', 'with', 'this', 'gay', 'name'], '20s'),\n",
              " ([':P'], '20s'),\n",
              " (['PART'], '20s'),\n",
              " (['hey', 'everyone'], '20s'),\n",
              " (['ah', 'well'], '20s'),\n",
              " (['NICK', ':', 'U7'], '20s'),\n",
              " (['U7', 'is', 'a', 'gay', 'name', '.'], '20s'),\n",
              " (['.', 'ACTION', 'gives', 'U121', 'a', 'golf', 'clap', '.'], '20s'),\n",
              " ([':)'], '20s'),\n",
              " (['JOIN'], '20s')]"
            ]
          },
          "metadata": {
            "tags": []
          },
          "execution_count": 127
        }
      ]
    },
    {
      "cell_type": "code",
      "metadata": {
        "id": "z39sydeLDGZW"
      },
      "source": [
        "import random\n",
        "random.shuffle(labeled_chats)"
      ],
      "execution_count": null,
      "outputs": []
    },
    {
      "cell_type": "code",
      "metadata": {
        "id": "6R1eiV5NDluH"
      },
      "source": [
        "featuresets=[(age_features(n),age) for (age,n) in labeled_chats]\n",
        "train_set,test_set=featuresets[500:],featuresets[:500]"
      ],
      "execution_count": null,
      "outputs": []
    },
    {
      "cell_type": "code",
      "metadata": {
        "id": "sT_nkxvwItqv",
        "outputId": "f31a5aec-6aab-442c-ede5-6eed7a834752",
        "colab": {
          "base_uri": "https://localhost:8080/",
          "height": 204
        }
      },
      "source": [
        "train_set[:10]"
      ],
      "execution_count": null,
      "outputs": [
        {
          "output_type": "execute_result",
          "data": {
            "text/plain": [
              "[({'Emoticons': 0, 'Length': 3}, ['PART']),\n",
              " ({'Emoticons': 0, 'Length': 3},\n",
              "  ['please', 'behave', 'baby', 'boy', '..', 'I', 'gottsa', 'go', 'now']),\n",
              " ({'Emoticons': 0, 'Length': 3}, ['fine']),\n",
              " ({'Emoticons': 0, 'Length': 3}, ['nada', 'again', 'U17', ',', 'u', '?']),\n",
              " ({'Emoticons': 0, 'Length': 3}, ['thank', 'you', 'U9']),\n",
              " ({'Emoticons': 0, 'Length': 3}, ['there', 'is', 'not', '!']),\n",
              " ({'Emoticons': 0, 'Length': 3}, ['hi']),\n",
              " ({'Emoticons': 0, 'Length': 3}, ['Hey', 'there', 'U25', '!']),\n",
              " ({'Emoticons': 0, 'Length': 3}, ['the', 'hair', '?']),\n",
              " ({'Emoticons': 0, 'Length': 3}, ['who', 'honey', '??'])]"
            ]
          },
          "metadata": {
            "tags": []
          },
          "execution_count": 16
        }
      ]
    },
    {
      "cell_type": "code",
      "metadata": {
        "id": "qCqxxrwAEWTB",
        "outputId": "83b249df-f747-4943-cf82-b8bc1390d0d4",
        "colab": {
          "base_uri": "https://localhost:8080/",
          "height": 301
        }
      },
      "source": [
        "import nltk\n",
        "classifier=nltk.NaiveBayesClassifier.train(train_set)"
      ],
      "execution_count": null,
      "outputs": [
        {
          "output_type": "error",
          "ename": "TypeError",
          "evalue": "ignored",
          "traceback": [
            "\u001b[0;31m---------------------------------------------------------------------------\u001b[0m",
            "\u001b[0;31mTypeError\u001b[0m                                 Traceback (most recent call last)",
            "\u001b[0;32m<ipython-input-15-9559d415dab3>\u001b[0m in \u001b[0;36m<module>\u001b[0;34m()\u001b[0m\n\u001b[1;32m      1\u001b[0m \u001b[0;32mimport\u001b[0m \u001b[0mnltk\u001b[0m\u001b[0;34m\u001b[0m\u001b[0;34m\u001b[0m\u001b[0m\n\u001b[0;32m----> 2\u001b[0;31m \u001b[0mclassifier\u001b[0m\u001b[0;34m=\u001b[0m\u001b[0mnltk\u001b[0m\u001b[0;34m.\u001b[0m\u001b[0mNaiveBayesClassifier\u001b[0m\u001b[0;34m.\u001b[0m\u001b[0mtrain\u001b[0m\u001b[0;34m(\u001b[0m\u001b[0mtrain_set\u001b[0m\u001b[0;34m)\u001b[0m\u001b[0;34m\u001b[0m\u001b[0;34m\u001b[0m\u001b[0m\n\u001b[0m",
            "\u001b[0;32m/usr/local/lib/python3.6/dist-packages/nltk/classify/naivebayes.py\u001b[0m in \u001b[0;36mtrain\u001b[0;34m(cls, labeled_featuresets, estimator)\u001b[0m\n\u001b[1;32m    193\u001b[0m         \u001b[0;31m# the label and featurename.\u001b[0m\u001b[0;34m\u001b[0m\u001b[0;34m\u001b[0m\u001b[0;34m\u001b[0m\u001b[0m\n\u001b[1;32m    194\u001b[0m         \u001b[0;32mfor\u001b[0m \u001b[0mfeatureset\u001b[0m\u001b[0;34m,\u001b[0m \u001b[0mlabel\u001b[0m \u001b[0;32min\u001b[0m \u001b[0mlabeled_featuresets\u001b[0m\u001b[0;34m:\u001b[0m\u001b[0;34m\u001b[0m\u001b[0;34m\u001b[0m\u001b[0m\n\u001b[0;32m--> 195\u001b[0;31m             \u001b[0mlabel_freqdist\u001b[0m\u001b[0;34m[\u001b[0m\u001b[0mlabel\u001b[0m\u001b[0;34m]\u001b[0m \u001b[0;34m+=\u001b[0m \u001b[0;36m1\u001b[0m\u001b[0;34m\u001b[0m\u001b[0;34m\u001b[0m\u001b[0m\n\u001b[0m\u001b[1;32m    196\u001b[0m             \u001b[0;32mfor\u001b[0m \u001b[0mfname\u001b[0m\u001b[0;34m,\u001b[0m \u001b[0mfval\u001b[0m \u001b[0;32min\u001b[0m \u001b[0mfeatureset\u001b[0m\u001b[0;34m.\u001b[0m\u001b[0mitems\u001b[0m\u001b[0;34m(\u001b[0m\u001b[0;34m)\u001b[0m\u001b[0;34m:\u001b[0m\u001b[0;34m\u001b[0m\u001b[0;34m\u001b[0m\u001b[0m\n\u001b[1;32m    197\u001b[0m                 \u001b[0;31m# Increment freq(fval|label, fname)\u001b[0m\u001b[0;34m\u001b[0m\u001b[0;34m\u001b[0m\u001b[0;34m\u001b[0m\u001b[0m\n",
            "\u001b[0;31mTypeError\u001b[0m: unhashable type: 'list'"
          ]
        }
      ]
    },
    {
      "cell_type": "code",
      "metadata": {
        "id": "bqjBse9HFN7B"
      },
      "source": [
        ""
      ],
      "execution_count": null,
      "outputs": []
    }
  ]
}